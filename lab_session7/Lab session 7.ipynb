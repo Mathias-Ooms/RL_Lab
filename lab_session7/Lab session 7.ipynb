{
 "cells": [
  {
   "cell_type": "markdown",
   "metadata": {},
   "source": [
    "# Lab session 7\n",
    "\n",
    "In this notebook, we'll be building a vanilla DQN, a DQN with experience replay, a DQN with target networks. \n",
    "### What is DQN?\n",
    "\n",
    "DQN is the first deep reinforcement learning method proposed by DeepMind, it overcomes unstable learning by mainly 4 techniques:\n",
    ">* Experience Replay.\n",
    "* Target Network.\n",
    "* Clipping Rewards.\n",
    "* Skipping Frames. \n",
    "\n",
    "To keep this lab session in time, instead of using gym atari we'll work with classic cart pole environment.\n",
    "<img src='assets/cartpole.gif' width=50% />\n",
    "\n",
    "#### Note:-\n",
    "Apart from submitting code, please add your answer to questions mentioned in lab session.\n",
    "Operation on cuda are fast. Try keeping all your operations on it.\n"
   ]
  },
  {
   "cell_type": "markdown",
   "metadata": {},
   "source": [
    "--------"
   ]
  },
  {
   "cell_type": "markdown",
   "metadata": {},
   "source": [
    "#### Import"
   ]
  },
  {
   "cell_type": "code",
   "execution_count": 1,
   "metadata": {},
   "outputs": [],
   "source": [
    "import math, random\n",
    "\n",
    "import cv2\n",
    "import gym\n",
    "import numpy as np\n",
    "from collections import deque\n",
    "\n",
    "\n",
    "import torch\n",
    "import torch.nn as nn\n",
    "import torch.optim as optim\n",
    "import torch.autograd as autograd \n",
    "import torch.nn.functional as F"
   ]
  },
  {
   "cell_type": "code",
   "execution_count": 2,
   "metadata": {},
   "outputs": [],
   "source": [
    "from IPython.display import clear_output, display\n",
    "import matplotlib.pyplot as plt\n",
    "%matplotlib inline"
   ]
  },
  {
   "cell_type": "markdown",
   "metadata": {},
   "source": [
    "**Note** *test()* function is a function to watch your agent play the game after training. Call the following function by passing your trained model and environment name as parameter.\n",
    "\n",
    "It returns a list of rewards."
   ]
  },
  {
   "cell_type": "code",
   "execution_count": 51,
   "metadata": {},
   "outputs": [],
   "source": [
    "def test(env_id, model):\n",
    "    \"\"\"\n",
    "    Method to play 30 games with trained agent.\n",
    "    \n",
    "    Parameters\n",
    "    ----------\n",
    "    env_id: str\n",
    "        name of your environment\n",
    "    model: model\n",
    "    \n",
    "    Returns\n",
    "    all_test_rewards: list\n",
    "        list of rewards collected in 30 episodes.\n",
    "    \"\"\"\n",
    "    env = gym.make(env_id)\n",
    "    all_test_rewards = list()\n",
    "    episode_reward = 0\n",
    "    episode_count = 0\n",
    "    state = env.reset()\n",
    "    #plt.figure(figsize=(9,9))\n",
    "    #img = plt.imshow(env.render(mode='rgb_array')) # only call this once\n",
    "    i = 0\n",
    "    while i < 100000:\n",
    "        i += 1\n",
    "        if episode_count == 30:\n",
    "            break\n",
    "        #img.set_data(env.render(mode='rgb_array')) # just update the data\n",
    "        #display(plt.gcf())\n",
    "        action = model.act(state,-1) # -ve epsilon so it always choses the policy it learned rather than random action\n",
    "        next_state, reward, done, _ = env.step(action)\n",
    "        state = next_state\n",
    "        if not done:\n",
    "            episode_reward += reward\n",
    "        else:\n",
    "            state = env.reset()\n",
    "            all_test_rewards.append(episode_reward)\n",
    "            print(episode_reward)\n",
    "            episode_reward = 0\n",
    "            episode_count += 1\n",
    "    print(\"The mean score of your agent: \", np.mean(all_test_rewards))\n",
    "    env.close()\n",
    "    return all_test_rewards"
   ]
  },
  {
   "cell_type": "markdown",
   "metadata": {},
   "source": [
    "#### Set cuda"
   ]
  },
  {
   "cell_type": "code",
   "execution_count": 4,
   "metadata": {},
   "outputs": [],
   "source": [
    "USE_CUDA = torch.cuda.is_available()\n",
    "Variable = lambda *args, **kwargs: autograd.Variable(*args, **kwargs).cuda() if USE_CUDA else autograd.Variable(*args, **kwargs)"
   ]
  },
  {
   "cell_type": "markdown",
   "metadata": {},
   "source": [
    "#### Cart Pole Environment"
   ]
  },
  {
   "cell_type": "code",
   "execution_count": 5,
   "metadata": {},
   "outputs": [],
   "source": [
    "env_id = \"CartPole-v0\"\n",
    "env = gym.make(env_id)"
   ]
  },
  {
   "cell_type": "markdown",
   "metadata": {},
   "source": [
    "#### Epsilon greedy exploration\n",
    "I'm sure you know the importance of epsilon. \n",
    "we are gonna plot the decay and you can see how it will behave for 10000 steps"
   ]
  },
  {
   "cell_type": "code",
   "execution_count": 6,
   "metadata": {},
   "outputs": [],
   "source": [
    "epsilon_start = 1.0\n",
    "epsilon_final = 0.01\n",
    "epsilon_decay = 500\n",
    "\n",
    "epsilon_by_frame = lambda frame_idx: epsilon_final + (epsilon_start - epsilon_final) * math.exp(-1. * frame_idx / epsilon_decay)"
   ]
  },
  {
   "cell_type": "code",
   "execution_count": 7,
   "metadata": {},
   "outputs": [
    {
     "data": {
      "text/plain": [
       "[<matplotlib.lines.Line2D at 0x7efb592ed5c0>]"
      ]
     },
     "execution_count": 7,
     "metadata": {},
     "output_type": "execute_result"
    },
    {
     "data": {
      "image/png": "[encoded data removed]",
      "text/plain": [
       "<Figure size 432x288 with 1 Axes>"
      ]
     },
     "metadata": {
      "needs_background": "light"
     },
     "output_type": "display_data"
    }
   ],
   "source": [
    "plt.plot([epsilon_by_frame(i) for i in range(10000)])"
   ]
  },
  {
   "cell_type": "markdown",
   "metadata": {},
   "source": [
    "### Deep Q-Network"
   ]
  },
  {
   "cell_type": "code",
   "execution_count": 8,
   "metadata": {},
   "outputs": [],
   "source": [
    "class DQN(nn.Module):\n",
    "    def __init__(self, num_inputs, num_actions):\n",
    "        super(DQN, self).__init__()\n",
    "        self.num_inputs = num_inputs\n",
    "        self.num_actions = num_actions\n",
    "        self.fc1 = nn.Linear(num_inputs, 128)\n",
    "        self.fc2 = nn.Linear(128, 128)\n",
    "        self.fc3 = nn.Linear(128, self.num_actions)\n",
    "        \n",
    "    def forward(self, x):\n",
    "        x = self.fc1(x)\n",
    "        x = F.relu(x)\n",
    "        x = self.fc2(x)\n",
    "        x = F.relu(x)\n",
    "        x = self.fc3(x)\n",
    "        return x\n",
    "    \n",
    "    def act(self, state, epsilon):\n",
    "        if random.random() > epsilon:\n",
    "            with torch.no_grad():\n",
    "                state   = Variable(torch.FloatTensor(state).unsqueeze(0))\n",
    "            q_value = self.forward(state).cpu()\n",
    "            action  = q_value.max(1)[1].data[0].numpy().tolist()\n",
    "        else:\n",
    "            action = random.randrange(self.num_actions)\n",
    "        return action"
   ]
  },
  {
   "cell_type": "code",
   "execution_count": 9,
   "metadata": {},
   "outputs": [],
   "source": [
    "model_base = DQN(env.observation_space.shape[0], env.action_space.n)\n",
    "\n",
    "if USE_CUDA:\n",
    "    model_base = model_base.cuda()\n",
    "    \n",
    "optimizer = optim.Adam(model_base.parameters())"
   ]
  },
  {
   "cell_type": "markdown",
   "metadata": {},
   "source": [
    "#### Computing Temporal Difference Loss"
   ]
  },
  {
   "cell_type": "code",
   "execution_count": 10,
   "metadata": {},
   "outputs": [],
   "source": [
    "def compute_td_loss_dqn(state, action, reward, next_state, done):\n",
    "    \"\"\"\n",
    "    Parameters\n",
    "    ----------\n",
    "    state: numpy array\n",
    "        current state of env\n",
    "    action: int\n",
    "        action you take in env\n",
    "    reward: int\n",
    "        reward for the action\n",
    "    next_state: numpy array\n",
    "        next state given current state and action\n",
    "    done: bool\n",
    "        if it's end of the episode.\n",
    "    \n",
    "    Returns\n",
    "    -------\n",
    "    loss: 1d-tensor\n",
    "\n",
    "    \"\"\"\n",
    "    # converting variables to tensors\n",
    "    state = Variable(torch.FloatTensor(np.float32(state)))\n",
    "\n",
    "    with torch.no_grad():\n",
    "        next_state = Variable(torch.FloatTensor(np.float32(next_state)))\n",
    "        \n",
    "    action = Variable(torch.from_numpy(np.array(action)))\n",
    "\n",
    "    reward = Variable(torch.from_numpy(np.array(reward)))\n",
    "    \n",
    "    done = Variable(torch.from_numpy(np.array(int(done))))\n",
    "    \n",
    "    # TODO:- predict q_values\n",
    "    q_values = model_base(state) #.gather(1, batch_action)\n",
    "    \n",
    "    # TODO:- predict q_values of next state\n",
    "    next_q_values = model_base(next_state)\n",
    "    \n",
    "    # TODO:- get corresponding action's q-value from predicted q-values\n",
    "    # hint:- there is a very optimal and good way to do this tensor operations check (gather)\n",
    "    q_value = q_values.gather(0, action)\n",
    "    \n",
    "    \n",
    "    next_q_value = next_q_values.max(0)[0]\n",
    "    \n",
    "    # TODO:- calculate expected q value based on bellman eq.\n",
    "    expected_q_value = reward + gamma*next_q_value * (1 - done)\n",
    "    \n",
    "    # TODO:- calculate MSE for back propagation of loss\n",
    "    # Hint:- you can't do an operation between a tensor and int. keep an eye on your variable type ;).\n",
    "    loss = F.mse_loss(expected_q_value, q_value)\n",
    "    \n",
    "    # back propagating your loss\n",
    "    optimizer.zero_grad()\n",
    "    loss.backward()\n",
    "    optimizer.step()\n",
    "    \n",
    "    return loss"
   ]
  },
  {
   "cell_type": "code",
   "execution_count": 11,
   "metadata": {},
   "outputs": [],
   "source": [
    "def plot(frame_idx, rewards, losses):\n",
    "    \"\"\"\n",
    "    Parameters\n",
    "    ----------\n",
    "    frame_idx: int\n",
    "        frame id\n",
    "    rewards: int\n",
    "        accumulated reward\n",
    "    losses: int\n",
    "        loss\n",
    "    \"\"\"\n",
    "    clear_output(True)\n",
    "    plt.figure(figsize=(20,5))\n",
    "    plt.subplot(131)\n",
    "    plt.title('frame %s. reward: %s' % (frame_idx, np.mean(rewards[-10:])))\n",
    "    plt.plot(rewards)\n",
    "    plt.subplot(132)\n",
    "    plt.title('loss')\n",
    "    plt.plot(losses)\n",
    "    plt.show()"
   ]
  },
  {
   "cell_type": "code",
   "execution_count": 12,
   "metadata": {},
   "outputs": [
    {
     "data": {
      "image/png": "[encoded data removed]",
      "text/plain": [
       "<Figure size 1440x360 with 2 Axes>"
      ]
     },
     "metadata": {
      "needs_background": "light"
     },
     "output_type": "display_data"
    }
   ],
   "source": [
    "num_frames = 20000\n",
    "gamma      = 0.99\n",
    "\n",
    "losses = []\n",
    "all_rewards = []\n",
    "episode_reward = 0\n",
    "\n",
    "state = env.reset()\n",
    "for frame_idx in range(1, num_frames + 1):\n",
    "    epsilon = epsilon_by_frame(frame_idx)\n",
    "    action = model_base.act(state, epsilon)\n",
    "    \n",
    "    next_state, reward, done, _ = env.step(action)\n",
    "    \n",
    "    state = next_state\n",
    "    episode_reward += reward\n",
    "    \n",
    "    if done:\n",
    "        state = env.reset()\n",
    "        all_rewards.append(episode_reward)\n",
    "        episode_reward = 0\n",
    "        \n",
    "    \n",
    "    loss = compute_td_loss_dqn(state, action, reward, next_state, done)\n",
    "    losses.append(loss.item())\n",
    "        \n",
    "    if frame_idx % 200 == 0:\n",
    "        plot(frame_idx, all_rewards, losses)"
   ]
  },
  {
   "cell_type": "markdown",
   "metadata": {},
   "source": [
    "EXPLANATION:\n",
    "In more complex environments it's impossible to keep all q-values for each state and action. So a Q-table isn't going to cut it anymore. That's why we make use of deep q networks, which act as function approximators for the q-function. \n",
    "We do this by predicting the q-values of the current and next state, calculate the expected q-value through the Bellman equation, so we can calculate the loss between the q-value and the expected q-value (target). And we try to minimize this loss to become a stable q-function.\n",
    "Unfortunately our results aren't that promising, the obtained rewards don't converge to a high cumulative reward (score) and we notice that there is barely any differnce between the q-values and the target q-values. This is due the fact that we always calculate the loss with the last transition.\n",
    "\n",
    "\n",
    "-------"
   ]
  },
  {
   "cell_type": "markdown",
   "metadata": {},
   "source": [
    "### Deep Q-Network with Replay buffer"
   ]
  },
  {
   "cell_type": "markdown",
   "metadata": {},
   "source": [
    "#### Experience Replay\n",
    "\n",
    "Experience replay will help us to handle two things:\n",
    "\n",
    "Avoid forgetting previous experiences.\n",
    "Reduce correlations between experiences.\n",
    "\n",
    "> * **Avoid forgetting previous experiences** : With using same network to generise we run into a problem. Since the environment is sequential we see new state, take action and overwrite the weights of our previous experience. Since all the weights are shared they form a high correlation between actions and states. We can greatly stablise our problem if we keep our previous experiences and learn from them as well. In environments like atari where your player dies and start episode again, training on these previous experiences come in handy as now agent still remember from previous experiences.\n",
    "> * **Reduce correlations between experiences**: We have another problem — we know that every action affects the next state. This outputs a sequence of experience tuples which can be highly correlated.\n",
    "If we train the network in sequential order, we risk our agent being influenced by the effect of this correlation.\n",
    "By sampling from the replay buffer at random, we can break this correlation. This prevents action values from oscillating or diverging catastrophically.\n",
    "\n"
   ]
  },
  {
   "cell_type": "code",
   "execution_count": 13,
   "metadata": {},
   "outputs": [],
   "source": [
    "model_batch = DQN(env.observation_space.shape[0], env.action_space.n)\n",
    "\n",
    "if USE_CUDA:\n",
    "    model_batch = model_batch.cuda()\n",
    "    \n",
    "optimizer = optim.Adam(model_batch.parameters())"
   ]
  },
  {
   "cell_type": "markdown",
   "metadata": {},
   "source": [
    "#### Replay Buffer"
   ]
  },
  {
   "cell_type": "code",
   "execution_count": 14,
   "metadata": {},
   "outputs": [],
   "source": [
    "class ReplayBuffer(object):\n",
    "    def __init__(self, capacity):\n",
    "        \"\"\"\n",
    "        Parameters\n",
    "        ----------\n",
    "        capacity: int\n",
    "            the length of your buffer\n",
    "        \"\"\"\n",
    "        self.buffer = deque(maxlen=capacity)\n",
    "    \n",
    "    def push(self, state, action, reward, next_state, done):\n",
    "        state      = np.expand_dims(state, 0)\n",
    "        next_state = np.expand_dims(next_state, 0)\n",
    "            \n",
    "        self.buffer.append((state, action, reward, next_state, done))\n",
    "    \n",
    "    def sample(self, batch_size):\n",
    "        \"\"\"\n",
    "        batch_size: int\n",
    "        \"\"\"\n",
    "        state, action, reward, next_state, done = zip(*random.sample(self.buffer, batch_size))\n",
    "        return np.concatenate(state), action, reward, np.concatenate(next_state), done\n",
    "    \n",
    "    def __len__(self):\n",
    "        return len(self.buffer)"
   ]
  },
  {
   "cell_type": "markdown",
   "metadata": {},
   "source": [
    "#### Compute TD loss\n",
    "Reason we are redefining it is because with replay buffer now you are gonna save your experience, gather it from your replay buffer and train model on it again. \n",
    "<br>\n",
    "Now since it's a batch operation you have added an extra axis and you'll have operations in different axis."
   ]
  },
  {
   "cell_type": "code",
   "execution_count": 15,
   "metadata": {},
   "outputs": [],
   "source": [
    "def compute_td_loss_batch(batch_size):\n",
    "    \"\"\"\n",
    "    Parameters\n",
    "    ----------\n",
    "    batch_size: int\n",
    "    \n",
    "    Returns\n",
    "    -------\n",
    "    loss: tensor\n",
    "    \"\"\"\n",
    "    state, action, reward, next_state, done = replay_buffer.sample(batch_size)\n",
    "    \n",
    "    state      = Variable(torch.FloatTensor(np.float32(state)))\n",
    "    with torch.no_grad():\n",
    "        next_state = Variable(torch.FloatTensor(np.float32(next_state)))\n",
    "    action     = Variable(torch.LongTensor(action))\n",
    "    reward     = Variable(torch.FloatTensor(reward))\n",
    "    done       = Variable(torch.FloatTensor(done))\n",
    "    \n",
    "    # TODO: predict q_values. \n",
    "    # Hint:- remeber it's a batch prediction so there will be extra dimention.\n",
    "    q_values = model_batch(state)\n",
    "    \n",
    "    # TODO: predict next state's q_values.\n",
    "    next_q_values = model_batch(next_state)\n",
    "\n",
    "    # TODO: get the q_values based on actions you took.\n",
    "    #Hint:- the logic should be same as previous one but remember there is an extra dimention.\n",
    "    action = action.unsqueeze(1)\n",
    "    q_values = q_values#.squeeze(1)\n",
    "    q_value = q_values.gather(1, action)\n",
    "\n",
    "    next_q_value = next_q_values.max(1)[0]\n",
    "\n",
    "    # TODO: calculate expected q value based on bellman eq.\n",
    "    expected_q_value = reward + gamma * next_q_value * (1 - done)\n",
    "\n",
    "    # TODO: calculate MSE\n",
    "    loss = F.mse_loss(expected_q_value.unsqueeze(1), q_value)\n",
    "\n",
    "    optimizer.zero_grad()\n",
    "    loss.backward()\n",
    "    optimizer.step()\n",
    "\n",
    "    return loss"
   ]
  },
  {
   "cell_type": "markdown",
   "metadata": {},
   "source": [
    "As mentioned previously, DQN itself is not stable but we stablise it by multiple methods. Replay buffer is one of them. <br>\n",
    "If your performance of DQN with replay buffer is same as previous, Try running it couple of times"
   ]
  },
  {
   "cell_type": "code",
   "execution_count": 16,
   "metadata": {},
   "outputs": [
    {
     "data": {
      "image/png": "[encoded data removed]",
      "text/plain": [
       "<Figure size 1440x360 with 2 Axes>"
      ]
     },
     "metadata": {
      "needs_background": "light"
     },
     "output_type": "display_data"
    }
   ],
   "source": [
    "num_frames = 20000\n",
    "batch_size = 32\n",
    "gamma      = 0.99\n",
    "replay_buffer = ReplayBuffer(1000)\n",
    "losses = []\n",
    "all_rewards = []\n",
    "episode_reward = 0\n",
    "count = 0\n",
    "state = env.reset()\n",
    "for frame_idx in range(1, num_frames + 1):\n",
    "    epsilon = epsilon_by_frame(frame_idx)\n",
    "    action = model_batch.act(state, epsilon)\n",
    "    next_state, reward, done, _ = env.step(action)\n",
    "    replay_buffer.push(state, action, reward, next_state, done)\n",
    "    \n",
    "    state = next_state\n",
    "    episode_reward += reward\n",
    "    \n",
    "    if done:\n",
    "        state = env.reset()\n",
    "        all_rewards.append(episode_reward)\n",
    "        episode_reward = 0\n",
    "        \n",
    "    if len(replay_buffer) > batch_size:\n",
    "        loss = compute_td_loss_batch(batch_size).cpu()\n",
    "        loss = loss.data.numpy().tolist()\n",
    "        losses.append(loss)\n",
    "        \n",
    "    if frame_idx % 200 == 0:\n",
    "        count = plot(frame_idx, all_rewards, losses)"
   ]
  },
  {
   "cell_type": "markdown",
   "metadata": {},
   "source": [
    "EXPLANATION:\n",
    "Here we've added a replay buffer making the approximation less vunerable to overfitting. This is also noticble in the loss-plot, the difference between the predicted q-values and target q-values is greater because of the batch sampling from the replay memory. This gives us a much better performance."
   ]
  },
  {
   "cell_type": "markdown",
   "metadata": {},
   "source": [
    "--------"
   ]
  },
  {
   "cell_type": "markdown",
   "metadata": {},
   "source": [
    "### DQN with target network"
   ]
  },
  {
   "cell_type": "markdown",
   "metadata": {},
   "source": [
    "We saw in the *Deep Q Learning* that, when we want to calculate the TD error (aka the loss), we calculate the difference between the TD target (Q_target) and the current Q value (estimation of Q). <br>\n",
    "\n",
    "But **we don’t have any idea of the real TD target**. We need to estimate it. Using the **Bellman equation**, we saw that the TD target is just the reward of taking that action at that state plus the discounted highest Q value for the next state. <br>\n",
    "\n",
    "However, the problem is that we using the same parameters (weights) for estimating the target and the Q value. As a consequence, there is a big correlation between the TD target and the parameters (w) we are changing.\n",
    "\n",
    "Therefore, it means that at every step of training, our Q values shift but also the target value shifts. So, we’re getting closer to our target but the target is also moving. It’s like chasing a moving target! This lead to a big oscillation in training.\n",
    "\n",
    "To avoid this oscillation instead, we can use the idea of fixed Q-targets:\n",
    "\n",
    "> * Using a separate network with a fixed parameter (we'll call it Target network) for estimating the TD target. <br>\n",
    "while we train our DQN network.\n",
    "> * After some number of steps, we copy the parameters from our DQN network to update the target network.\n",
    "\n",
    "We’ll have more stable learning because the target function stays fixed for a while.\n",
    "\n",
    "In current implementation you won't be using Replay buffer, just *Target network*."
   ]
  },
  {
   "cell_type": "code",
   "execution_count": 17,
   "metadata": {},
   "outputs": [],
   "source": [
    "current_model_target = DQN(env.observation_space.shape[0], env.action_space.n)\n",
    "target_model_target  = DQN(env.observation_space.shape[0], env.action_space.n)\n",
    "\n",
    "if USE_CUDA:\n",
    "    current_model_target = current_model_target.cuda()\n",
    "    target_model_target  = target_model_target.cuda()\n",
    "    \n",
    "optimizer = optim.Adam(current_model_target.parameters())"
   ]
  },
  {
   "cell_type": "markdown",
   "metadata": {},
   "source": [
    "#### Sync model"
   ]
  },
  {
   "cell_type": "code",
   "execution_count": 18,
   "metadata": {},
   "outputs": [],
   "source": [
    "def update_target(current_model, target_model):\n",
    "    \"\"\"\n",
    "    Parameters\n",
    "    ----------\n",
    "    current_model: model\n",
    "    \n",
    "    target_model: model\n",
    "    \"\"\"\n",
    "    target_model.load_state_dict(current_model.state_dict())"
   ]
  },
  {
   "cell_type": "code",
   "execution_count": 19,
   "metadata": {},
   "outputs": [],
   "source": [
    "# initialise network as same as they may have random values in their weights\n",
    "update_target(current_model_target, target_model_target)"
   ]
  },
  {
   "cell_type": "markdown",
   "metadata": {},
   "source": [
    "#### Compute TD loss"
   ]
  },
  {
   "cell_type": "code",
   "execution_count": 20,
   "metadata": {},
   "outputs": [],
   "source": [
    "def compute_td_loss_target(state, action, reward, next_state, done):\n",
    "    \n",
    "    state      = Variable(torch.FloatTensor(np.float32(state)))\n",
    "    with torch.no_grad():\n",
    "        next_state = Variable(torch.FloatTensor(np.float32(next_state)))\n",
    "    action  = Variable(torch.from_numpy(np.array(action)))\n",
    "    reward  = Variable(torch.from_numpy(np.array(reward)))\n",
    "    done = Variable(torch.from_numpy(np.array(int(done))))\n",
    "    \n",
    "    # TODO:- predict q_values\n",
    "    q_values = current_model_target(state) #.gather(1, batch_action)\n",
    "    \n",
    "    # TODO:- predict q_values of next state\n",
    "    next_q_values = target_model_target(next_state)\n",
    "    \n",
    "    # TODO:- get corresponding action's q-value from predicted q-values\n",
    "    # hint:- there is a very optimal and good way to do this tensor operations check (gather)\n",
    "    q_value = q_values.gather(0, action)\n",
    "    \n",
    "    \n",
    "    next_q_value = next_q_values.max(0)[0]\n",
    "    \n",
    "    # TODO:- calculate expected q value based on bellman eq.\n",
    "    expected_q_value = reward + gamma*next_q_value * (1 - done)\n",
    "    \n",
    "    # TODO:- calculate MSE for back propagation of loss\n",
    "    # Hint:- you can't do an operation between a tensor and int. keep an eye on your variable type ;).\n",
    "    loss = F.mse_loss(expected_q_value, q_value)\n",
    "    \n",
    "    # back propagating your loss\n",
    "    optimizer.zero_grad()\n",
    "    loss.backward()\n",
    "    optimizer.step()\n",
    "    \n",
    "    return loss"
   ]
  },
  {
   "cell_type": "code",
   "execution_count": 21,
   "metadata": {},
   "outputs": [
    {
     "data": {
      "image/png": "[encoded data removed]",
      "text/plain": [
       "<Figure size 1440x360 with 2 Axes>"
      ]
     },
     "metadata": {
      "needs_background": "light"
     },
     "output_type": "display_data"
    }
   ],
   "source": [
    "num_frames = 20000\n",
    "batch_size = 32\n",
    "gamma      = 0.99\n",
    "\n",
    "losses = []\n",
    "all_rewards = []\n",
    "episode_reward = 0\n",
    "\n",
    "state = env.reset()\n",
    "for frame_idx in range(1, num_frames + 1):\n",
    "    epsilon = epsilon_by_frame(frame_idx)\n",
    "    action = current_model_target.act(state, epsilon)\n",
    "    \n",
    "    next_state, reward, done, _ = env.step(action)\n",
    "    \n",
    "    state = next_state\n",
    "    episode_reward += reward\n",
    "    \n",
    "    if done:\n",
    "        state = env.reset()\n",
    "        all_rewards.append(episode_reward)\n",
    "        episode_reward = 0\n",
    "        \n",
    "    loss = compute_td_loss_target(state, action, reward, next_state, done)\n",
    "    losses.append(loss.data)\n",
    "        \n",
    "    if frame_idx % 200 == 0:\n",
    "        plot(frame_idx, all_rewards, losses)\n",
    "    \n",
    "    if frame_idx % 100 == 0:\n",
    "        update_target(current_model_target, target_model_target)\n",
    "        "
   ]
  },
  {
   "cell_type": "markdown",
   "metadata": {},
   "source": [
    "EXPLANATION:\n",
    "Here we didn't use the replay buffer, but made use of an extra target network. Since the same dqn is calculating the predicted q-value and the target q-value, there could be a lot of divergence between these two. So instead of using one neural network for learning, we can use two.\n",
    "\n",
    "This target-network is used to estimate the target q-value. This leads to more stable training because it keeps the target q-function fixed (for a while). It shows already better results than traditional dqn, but still a lot worse than dqn with replay buffer. The fact that we don't use the replay buffer is also visible in the loss-plot, because of the low difference between the q-values."
   ]
  },
  {
   "cell_type": "markdown",
   "metadata": {},
   "source": [
    "--------"
   ]
  },
  {
   "cell_type": "markdown",
   "metadata": {},
   "source": [
    "### DQN with target network and Replay buffer\n"
   ]
  },
  {
   "cell_type": "markdown",
   "metadata": {},
   "source": [
    "Let's try adding Replay buffer"
   ]
  },
  {
   "cell_type": "code",
   "execution_count": 22,
   "metadata": {},
   "outputs": [],
   "source": [
    "current_model_dqn = DQN(env.observation_space.shape[0], env.action_space.n)\n",
    "target_model_dqn  = DQN(env.observation_space.shape[0], env.action_space.n)\n",
    "\n",
    "if USE_CUDA:\n",
    "    current_model_dqn = current_model_dqn.cuda()\n",
    "    target_model_dqn  = target_model_dqn.cuda()\n",
    "    \n",
    "optimizer = optim.Adam(current_model_dqn.parameters())\n",
    "update_target(current_model_dqn, target_model_dqn)\n",
    "replay_buffer = ReplayBuffer(1000)"
   ]
  },
  {
   "cell_type": "markdown",
   "metadata": {},
   "source": [
    "#### Compute TD loss"
   ]
  },
  {
   "cell_type": "code",
   "execution_count": 23,
   "metadata": {},
   "outputs": [],
   "source": [
    "def compute_td_loss_target_batch(batch_size):\n",
    "    state, action, reward, next_state, done = replay_buffer.sample(batch_size)\n",
    "\n",
    "    state      = Variable(torch.FloatTensor(np.float32(state)))\n",
    "    next_state = Variable(torch.FloatTensor(np.float32(next_state)))\n",
    "    action     = Variable(torch.LongTensor(action))\n",
    "    reward     = Variable(torch.FloatTensor(reward))\n",
    "    done       = Variable(torch.FloatTensor(done))\n",
    "\n",
    "    # Hint:- most of the operations should be similar to previous impletations.\n",
    "    \n",
    "       # TODO: predict q_values. \n",
    "    # Hint:- remeber it's a batch prediction so there will be extra dimention.\n",
    "    q_values = current_model_dqn(state)\n",
    "    \n",
    "    # TODO: predict next state's q_values.\n",
    "    next_q_values = target_model_dqn(next_state)\n",
    "\n",
    "    # TODO: get the q_values based on actions you took.\n",
    "    #Hint:- the logic should be same as previous one but remember there is an extra dimention.\n",
    "    action = action.unsqueeze(1)\n",
    "    q_values = q_values#.squeeze(1)\n",
    "    q_value = q_values.gather(1, action)\n",
    "\n",
    "    next_q_value = next_q_values.max(1)[0]\n",
    "\n",
    "    # TODO: calculate expected q value based on bellman eq.\n",
    "    expected_q_value = reward + gamma * next_q_value * (1 - done)\n",
    "\n",
    "    # TODO: calculate MSE\n",
    "    loss = F.mse_loss(expected_q_value.unsqueeze(1), q_value)\n",
    "\n",
    "    optimizer.zero_grad()\n",
    "    loss.backward()\n",
    "    optimizer.step()\n",
    "\n",
    "    return loss"
   ]
  },
  {
   "cell_type": "code",
   "execution_count": 24,
   "metadata": {},
   "outputs": [
    {
     "data": {
      "image/png": "[encoded data removed]",
      "text/plain": [
       "<Figure size 1440x360 with 2 Axes>"
      ]
     },
     "metadata": {
      "needs_background": "light"
     },
     "output_type": "display_data"
    }
   ],
   "source": [
    "num_frames = 20000\n",
    "batch_size = 32\n",
    "gamma      = 0.99\n",
    "\n",
    "losses = []\n",
    "all_rewards = []\n",
    "episode_reward = 0\n",
    "\n",
    "state = env.reset()\n",
    "for frame_idx in range(1, num_frames + 1):\n",
    "    epsilon = epsilon_by_frame(frame_idx)\n",
    "    action = current_model_dqn.act(state, epsilon)\n",
    "    next_state, reward, done, _ = env.step(action)\n",
    "    replay_buffer.push(state, action, reward, next_state, done)\n",
    "    \n",
    "    state = next_state\n",
    "    episode_reward += reward\n",
    "    \n",
    "    if done:\n",
    "        state = env.reset()\n",
    "        all_rewards.append(episode_reward)\n",
    "        episode_reward = 0\n",
    "        \n",
    "    if len(replay_buffer) > batch_size:\n",
    "        loss = compute_td_loss_target_batch(batch_size)\n",
    "        losses.append(loss.data)\n",
    "        \n",
    "    if frame_idx % 200 == 0:\n",
    "        plot(frame_idx, all_rewards, losses)\n",
    "\n",
    "    if frame_idx % 100 == 0:\n",
    "        update_target(current_model_dqn, target_model_dqn)"
   ]
  },
  {
   "cell_type": "markdown",
   "metadata": {},
   "source": [
    "EXPLANATION:\n",
    "Here we combine the two previous techniques. Wich results in the best of both worlds: no tending to overfitting (replay buffer) and a bit more stable learning (target network). Here we can notice a more stable convergence of the cumulative reward."
   ]
  },
  {
   "cell_type": "markdown",
   "metadata": {},
   "source": [
    "--------"
   ]
  },
  {
   "cell_type": "markdown",
   "metadata": {},
   "source": [
    "### Double DQN"
   ]
  },
  {
   "cell_type": "markdown",
   "metadata": {},
   "source": [
    "The target based DQN in early stages is naive, we use the action that maximizes the Q-value[next_state]. But in the early stage, this is a noisy approximation so we tend to overestimate the Q-value.\n",
    "\n",
    "To overcome the overestimation problem we can use both the networks the local and target as we have two sets of weights, so we can cross-validate it with both sets of weights and minimize the overestimation problem.\n"
   ]
  },
  {
   "cell_type": "code",
   "execution_count": 25,
   "metadata": {},
   "outputs": [],
   "source": [
    "current_model_ddqn = DQN(env.observation_space.shape[0], env.action_space.n)\n",
    "target_model_ddqn  = DQN(env.observation_space.shape[0], env.action_space.n)\n",
    "\n",
    "if USE_CUDA:\n",
    "    current_model_ddqn = current_model_ddqn.cuda()\n",
    "    target_model_ddqn  = target_model_ddqn.cuda()\n",
    "    \n",
    "optimizer = optim.Adam(current_model_ddqn.parameters())\n",
    "update_target(current_model_ddqn, target_model_ddqn)\n",
    "replay_buffer = ReplayBuffer(1000)"
   ]
  },
  {
   "cell_type": "code",
   "execution_count": 26,
   "metadata": {},
   "outputs": [],
   "source": [
    "def compute_td_loss_doubleDQN(batch_size):\n",
    "    state, action, reward, next_state, done = replay_buffer.sample(batch_size)\n",
    "    \n",
    "    state      = Variable(torch.FloatTensor(np.float32(state)))\n",
    "    with torch.no_grad():\n",
    "        next_state = Variable(torch.FloatTensor(np.float32(next_state)))\n",
    "    action     = Variable(torch.LongTensor(action))\n",
    "    reward     = Variable(torch.FloatTensor(reward))\n",
    "    done       = Variable(torch.FloatTensor(done))\n",
    "    \n",
    "    # TODO: predict q_values. \n",
    "    # Hint:- remeber it's a batch prediction so there will be extra dimention.\n",
    "    q_values = current_model_ddqn(state)\n",
    "    \n",
    "    # TODO: predict next state's q_values.\n",
    "    next_q_values = current_model_ddqn(next_state)\n",
    "    \n",
    "    # TODO:- predict next state values from target model\n",
    "    next_q_target_values = target_model_ddqn(next_state)\n",
    "    \n",
    "    # Gather only values based on action\n",
    "    q_value = q_values.gather(1, action.unsqueeze(1)).squeeze(1)\n",
    "    \n",
    "    # TODO:- calculate next state q_values that are not over estimated\n",
    "    # Hint:- next_q_value = next state q-values from target[maximum of next state q-values from current model]\n",
    "    next_q_value = next_q_target_values.gather(1, next_q_values.argmax(1).unsqueeze(1)).squeeze(1)\n",
    "    \n",
    "    # TODO:- calculate expected Q-values of future\n",
    "    expected_q_value = reward + gamma * next_q_value * (1 - done)\n",
    "      \n",
    "    \n",
    "    # TODO:- apply MSE\n",
    "    loss = F.mse_loss(expected_q_value, q_value)\n",
    "        \n",
    "    optimizer.zero_grad()\n",
    "    loss.backward()\n",
    "    optimizer.step()\n",
    "    \n",
    "    return loss"
   ]
  },
  {
   "cell_type": "markdown",
   "metadata": {},
   "source": [
    "-------"
   ]
  },
  {
   "cell_type": "code",
   "execution_count": 27,
   "metadata": {},
   "outputs": [
    {
     "data": {
      "image/png": "[encoded data removed]",
      "text/plain": [
       "<Figure size 1440x360 with 2 Axes>"
      ]
     },
     "metadata": {
      "needs_background": "light"
     },
     "output_type": "display_data"
    }
   ],
   "source": [
    "num_frames = 20000\n",
    "batch_size = 32\n",
    "gamma      = 0.99\n",
    "\n",
    "losses = []\n",
    "all_rewards = []\n",
    "episode_reward = 0\n",
    "\n",
    "state = env.reset()\n",
    "for frame_idx in range(1, num_frames + 1):\n",
    "    epsilon = epsilon_by_frame(frame_idx)\n",
    "    action = current_model_ddqn.act(state, epsilon)\n",
    "    \n",
    "    next_state, reward, done, _ = env.step(action)\n",
    "    replay_buffer.push(state, action, reward, next_state, done)\n",
    "    \n",
    "    state = next_state\n",
    "    episode_reward += reward\n",
    "    \n",
    "    if done:\n",
    "        state = env.reset()\n",
    "        all_rewards.append(episode_reward)\n",
    "        episode_reward = 0\n",
    "    if len(replay_buffer) > batch_size:\n",
    "        loss = compute_td_loss_doubleDQN(batch_size)\n",
    "        losses.append(loss.data)\n",
    "        \n",
    "    if frame_idx % 200 == 0:\n",
    "        plot(frame_idx, all_rewards, losses)\n",
    "    \n",
    "    if frame_idx % 100 == 0:\n",
    "        update_target(current_model_ddqn, target_model_ddqn)"
   ]
  },
  {
   "cell_type": "markdown",
   "metadata": {},
   "source": [
    "EXPLANATION:\n",
    "DDQN is an improvement on the DQN with target network, we try to overcome the overestimation problem by using both the networks the local and target as we have two sets of weights, so we can cross-validate it with both sets of weights and minimize the overestimation problem. This leads to more stable convergence and sometimes even better performance. But in this simple case there isn't a lot of difference with dqn with replay buffer."
   ]
  },
  {
   "cell_type": "markdown",
   "metadata": {},
   "source": [
    "### Dueling Deep Q Networks\n",
    "The key motivation behind this Dueling-DQN is that, for some problem statements, it is unnecessary to know the value of each action at every timestep. \n",
    "A simple example is of the Atari game Enduro, where it is not necessary to know which action to take until collision is imminent.\n",
    "\n",
    "<img src='assets/enduro.gif' width=50% />\n",
    "\n",
    "##### Architecture\n",
    "Like the standard DQN architecture, we have layers to process data. From there, we split the network into two separate streams, one for estimating the state-value and the other for estimating state-dependent action advantages. After the two streams, the last module of the network combines the state-value and advantage outputs.\n"
   ]
  },
  {
   "cell_type": "code",
   "execution_count": 28,
   "metadata": {},
   "outputs": [],
   "source": [
    "class DuelingDQN(nn.Module):\n",
    "    def __init__(self, num_inputs, num_outputs):\n",
    "        super(DuelingDQN, self).__init__()\n",
    "        self.num_actions = num_outputs\n",
    "        \n",
    "        self.feature = nn.Sequential(\n",
    "            nn.Linear(num_inputs, 128),\n",
    "            nn.ReLU()\n",
    "        )\n",
    "        \n",
    "        self.advantage = nn.Sequential(\n",
    "            nn.Linear(128, 128),\n",
    "            nn.ReLU(),\n",
    "            nn.Linear(128, num_outputs)\n",
    "        )\n",
    "        \n",
    "        self.value = nn.Sequential(\n",
    "            nn.Linear(128, 128),\n",
    "            nn.ReLU(),\n",
    "            nn.Linear(128, 1)\n",
    "        )\n",
    "        \n",
    "    def forward(self, x):\n",
    "        x = self.feature(x)\n",
    "        advantage = self.advantage(x)\n",
    "        value     = self.value(x)\n",
    "        return value + advantage  - advantage.mean()\n",
    "    \n",
    "    def act(self, state, epsilon):\n",
    "        if random.random() > epsilon:\n",
    "            with torch.no_grad():\n",
    "                state   = Variable(torch.FloatTensor(state).unsqueeze(0))\n",
    "            q_value = self.forward(state).cpu()\n",
    "            action  = q_value.max(1)[1].data[0].numpy().tolist()\n",
    "        else:\n",
    "            action = random.randrange(self.num_actions)\n",
    "        return action"
   ]
  },
  {
   "cell_type": "code",
   "execution_count": 29,
   "metadata": {},
   "outputs": [],
   "source": [
    "current_model_dueldqn = DuelingDQN(env.observation_space.shape[0], env.action_space.n)\n",
    "target_model_dueldqn  = DuelingDQN(env.observation_space.shape[0], env.action_space.n)\n",
    "\n",
    "if USE_CUDA:\n",
    "    current_model_dueldqn = current_model_dueldqn.cuda()\n",
    "    target_model_dueldqn  = target_model_dueldqn.cuda()\n",
    "    \n",
    "optimizer = optim.Adam(current_model_dueldqn.parameters())\n",
    "\n",
    "replay_buffer = ReplayBuffer(1000)"
   ]
  },
  {
   "cell_type": "markdown",
   "metadata": {},
   "source": [
    "#### Synchronize current policy net and target net"
   ]
  },
  {
   "cell_type": "code",
   "execution_count": 30,
   "metadata": {},
   "outputs": [],
   "source": [
    "update_target(current_model_dueldqn, target_model_dueldqn)"
   ]
  },
  {
   "cell_type": "code",
   "execution_count": 31,
   "metadata": {},
   "outputs": [],
   "source": [
    "def compute_td_loss_duelingDQN(batch_size):\n",
    "    state, action, reward, next_state, done = replay_buffer.sample(batch_size)\n",
    "\n",
    "    state      = Variable(torch.FloatTensor(np.float32(state)))\n",
    "    next_state = Variable(torch.FloatTensor(np.float32(next_state)))\n",
    "    action     = Variable(torch.LongTensor(action))\n",
    "    reward     = Variable(torch.FloatTensor(reward))\n",
    "    done       = Variable(torch.FloatTensor(done))\n",
    "    \n",
    "    # TODO: Predict q_values from current model\n",
    "    q_values = current_model_dueldqn(state)\n",
    "    \n",
    "    # TODO: Predict q_values from target model\n",
    "    next_q_values = target_model_dueldqn(next_state)\n",
    "    \n",
    "    # TODO: get q_values based on action from q_values\n",
    "    q_value  = q_values.gather(1, action.unsqueeze(1))\n",
    "    \n",
    "    # TODO: find maximum of next_q_values \n",
    "    # Hint: keep in mind its a batch process so find maximum in correct axis\n",
    "    next_q_value = next_q_values.max(1)[0]\n",
    "    \n",
    "    # TODO: calculate expected_q_value derived from bellman eq.\n",
    "    expected_q_value = reward + gamma * next_q_value * (1 - done)\n",
    "    \n",
    "    # TODO: calculate MSE between q_value and expected_q_value\n",
    "    loss = F.mse_loss(expected_q_value.unsqueeze(1), q_value)\n",
    "        \n",
    "    optimizer.zero_grad()\n",
    "    loss.backward()\n",
    "    optimizer.step()\n",
    "    \n",
    "    return loss"
   ]
  },
  {
   "cell_type": "code",
   "execution_count": 32,
   "metadata": {},
   "outputs": [
    {
     "data": {
      "image/png": "[encoded data removed]",
      "text/plain": [
       "<Figure size 1440x360 with 2 Axes>"
      ]
     },
     "metadata": {
      "needs_background": "light"
     },
     "output_type": "display_data"
    }
   ],
   "source": [
    "num_frames = 20000\n",
    "batch_size = 32\n",
    "gamma      = 0.99\n",
    "\n",
    "losses = []\n",
    "all_rewards = []\n",
    "episode_reward = 0\n",
    "\n",
    "state = env.reset()\n",
    "for frame_idx in range(1, num_frames + 1):\n",
    "    epsilon = epsilon_by_frame(frame_idx)\n",
    "    action = current_model_dueldqn.act(state, epsilon)\n",
    "    \n",
    "    next_state, reward, done, _ = env.step(action)\n",
    "    replay_buffer.push(state, action, reward, next_state, done)\n",
    "    \n",
    "    state = next_state\n",
    "    episode_reward += reward\n",
    "    \n",
    "    if done:\n",
    "        state = env.reset()\n",
    "        all_rewards.append(episode_reward)\n",
    "        episode_reward = 0\n",
    "        \n",
    "    if len(replay_buffer) > batch_size:\n",
    "        loss = compute_td_loss_duelingDQN(batch_size)\n",
    "        losses.append(loss.data)\n",
    "        \n",
    "    if frame_idx % 200 == 0:\n",
    "        plot(frame_idx, all_rewards, losses)\n",
    "    \n",
    "    if frame_idx % 100 == 0:\n",
    "        update_target(current_model_dueldqn, target_model_dueldqn)"
   ]
  },
  {
   "cell_type": "markdown",
   "metadata": {},
   "source": [
    "EXPLANATION:\n",
    "Here we've made a drastic change to the architecture making use of the advantage function. The advantage function tells us how much better or worse taking an action a in state s is, compared to acting according to the policy.\n",
    "This performance isn't that stable but does give us a quick convergence."
   ]
  },
  {
   "cell_type": "markdown",
   "metadata": {},
   "source": [
    "------------"
   ]
  },
  {
   "cell_type": "markdown",
   "metadata": {},
   "source": [
    "# Plot comparison of all agents"
   ]
  },
  {
   "cell_type": "code",
   "execution_count": 53,
   "metadata": {},
   "outputs": [
    {
     "name": "stdout",
     "output_type": "stream",
     "text": [
      "8.0\n",
      "8.0\n",
      "9.0\n",
      "8.0\n",
      "9.0\n",
      "7.0\n",
      "9.0\n",
      "9.0\n",
      "9.0\n",
      "7.0\n",
      "9.0\n",
      "7.0\n",
      "7.0\n",
      "8.0\n",
      "9.0\n",
      "8.0\n",
      "9.0\n",
      "10.0\n",
      "7.0\n",
      "9.0\n",
      "7.0\n",
      "7.0\n",
      "9.0\n",
      "8.0\n",
      "7.0\n",
      "7.0\n",
      "8.0\n",
      "9.0\n",
      "9.0\n",
      "8.0\n",
      "The mean score of your agent:  8.166666666666666\n",
      "199.0\n",
      "199.0\n",
      "199.0\n",
      "199.0\n",
      "199.0\n",
      "199.0\n",
      "199.0\n",
      "40.0\n",
      "199.0\n",
      "199.0\n",
      "199.0\n",
      "199.0\n",
      "175.0\n",
      "199.0\n",
      "199.0\n",
      "28.0\n",
      "199.0\n",
      "199.0\n",
      "199.0\n",
      "118.0\n",
      "199.0\n",
      "199.0\n",
      "106.0\n",
      "199.0\n",
      "199.0\n",
      "199.0\n",
      "199.0\n",
      "199.0\n",
      "199.0\n",
      "199.0\n",
      "The mean score of your agent:  181.4\n",
      "23.0\n",
      "29.0\n",
      "27.0\n",
      "14.0\n",
      "40.0\n",
      "11.0\n",
      "28.0\n",
      "36.0\n",
      "10.0\n",
      "10.0\n",
      "37.0\n",
      "11.0\n",
      "9.0\n",
      "12.0\n",
      "33.0\n",
      "27.0\n",
      "23.0\n",
      "8.0\n",
      "8.0\n",
      "14.0\n",
      "10.0\n",
      "14.0\n",
      "12.0\n",
      "10.0\n",
      "33.0\n",
      "51.0\n",
      "14.0\n",
      "25.0\n",
      "35.0\n",
      "33.0\n",
      "The mean score of your agent:  21.566666666666666\n",
      "199.0\n",
      "199.0\n",
      "199.0\n",
      "199.0\n",
      "199.0\n",
      "199.0\n",
      "199.0\n",
      "199.0\n",
      "199.0\n",
      "199.0\n",
      "199.0\n",
      "199.0\n",
      "199.0\n",
      "199.0\n",
      "199.0\n",
      "199.0\n",
      "199.0\n",
      "199.0\n",
      "199.0\n",
      "199.0\n",
      "199.0\n",
      "199.0\n",
      "199.0\n",
      "199.0\n",
      "199.0\n",
      "199.0\n",
      "199.0\n",
      "199.0\n",
      "199.0\n",
      "199.0\n",
      "The mean score of your agent:  199.0\n",
      "199.0\n",
      "199.0\n",
      "199.0\n",
      "199.0\n",
      "199.0\n",
      "199.0\n",
      "199.0\n",
      "199.0\n",
      "199.0\n",
      "199.0\n",
      "199.0\n",
      "199.0\n",
      "199.0\n",
      "199.0\n",
      "199.0\n",
      "199.0\n",
      "199.0\n",
      "199.0\n",
      "199.0\n",
      "199.0\n",
      "199.0\n",
      "199.0\n",
      "199.0\n",
      "199.0\n",
      "199.0\n",
      "199.0\n",
      "199.0\n",
      "199.0\n",
      "199.0\n",
      "199.0\n",
      "The mean score of your agent:  199.0\n",
      "151.0\n",
      "148.0\n",
      "139.0\n",
      "142.0\n",
      "140.0\n",
      "140.0\n",
      "140.0\n",
      "146.0\n",
      "145.0\n",
      "136.0\n",
      "145.0\n",
      "135.0\n",
      "147.0\n",
      "139.0\n",
      "138.0\n",
      "149.0\n",
      "141.0\n",
      "153.0\n",
      "135.0\n",
      "139.0\n",
      "144.0\n",
      "145.0\n",
      "136.0\n",
      "156.0\n",
      "141.0\n",
      "157.0\n",
      "145.0\n",
      "140.0\n",
      "147.0\n",
      "141.0\n",
      "The mean score of your agent:  143.33333333333334\n"
     ]
    },
    {
     "data": {
      "image/png": "[encoded data removed]",
      "text/plain": [
       "<Figure size 432x288 with 1 Axes>"
      ]
     },
     "metadata": {
      "needs_background": "light"
     },
     "output_type": "display_data"
    }
   ],
   "source": [
    "\"\"\"\n",
    "TODO: write a function to plot the performance of all previously discussed agents.\n",
    "Use test function to get their perform.\n",
    "\"\"\"\n",
    "\n",
    "models = [model_base, model_batch, current_model_target, current_model_dqn, current_model_ddqn, current_model_dueldqn]\n",
    "labels = ['DQN', 'DQN_RB', 'DQN_T', 'DQN_T_RB', 'DDQN', 'DuelDQN']\n",
    "\n",
    "for i in range(len(models)):\n",
    "    all_test_rewards = test(\"CartPole-v0\", models[i])\n",
    "    \n",
    "    plt.plot(all_test_rewards, label=labels[i])\n",
    "\n",
    "    \n",
    "plt.xlabel('Episode')\n",
    "plt.ylabel('Reward')\n",
    "plt.legend()\n",
    "plt.show()\n",
    "  \n"
   ]
  },
  {
   "cell_type": "markdown",
   "metadata": {},
   "source": [
    "----"
   ]
  },
  {
   "cell_type": "markdown",
   "metadata": {},
   "source": [
    "## Playing atari Pong with Double DQN"
   ]
  },
  {
   "cell_type": "markdown",
   "metadata": {},
   "source": [
    "You have successfully completed the DQN, Now we'll step up the complexity of our **Environment**. <br>\n",
    "With Complex visual environment like *Space invaders*, We'll need to include following steps:\n",
    "* Pre-process the input\n",
    "* Make our NN more complex\n",
    "> * Pre-process the input: To reduce the complexity of our states, to reduce the computation time needed for training and thus to keep network shallow we pre-process each state(frame) to convert it from RGB to grey scale. By doing this we reduce the 3 color channels (RGB) to 1 Grey. \n",
    "then we crop the top of frame where we see the score for 2 reasons\n",
    "    * Score doesn't matter as we are getting reward from env, thus it's just something we don't need.\n",
    "    * Score keeps on changing which introduces extra complexity adds more number of states. A small change in pixels potentially means new state\n",
    "> * Make our NN more complex: We introduce CNNs to preprocess the information from states(frames). You can further read on internet the advantages of CNNs over Fully connected layer. It's out of scope for this lab session.\n",
    "\n",
    "The new architecture will look something like this:-\n",
    "<img src='assets/atari.png' width=50% />\n",
    "\n",
    "This may seem complex but it's really not. we'll walk through step by step.\n",
    "\n",
    "1) Preprocess frame\n",
    "\n",
    "2) stack 4 frames: We stack frame to limit the problem of temporal limitation. \n",
    "  >* Temporal limitation: By looking at following image can you tell if the ball in the game of pong going left or right?\n",
    "    <img src='assets/pong.png' width=50% /> <br>\n",
    "    Thus we stack 4 frames to get context. If it's going left or right.\n",
    "\n",
    "3) Stack CNN layers.\n",
    "\n",
    "The above presented architecture is just an example. The complexity of your network depends on the Environment.\n",
    "\n",
    "Different environment have different scoring system. To avoid having different architectures to play different games we often **clip rewards**."
   ]
  },
  {
   "cell_type": "code",
   "execution_count": 34,
   "metadata": {},
   "outputs": [],
   "source": [
    "class ClipRewardEnv(gym.RewardWrapper):\n",
    "    def __init__(self, env):\n",
    "        gym.RewardWrapper.__init__(self, env)\n",
    "\n",
    "    def reward(self, reward):\n",
    "        \"\"\"Bin reward to {+1, 0, -1} by its sign.\"\"\"\n",
    "        return np.sign(reward)"
   ]
  },
  {
   "cell_type": "code",
   "execution_count": 35,
   "metadata": {},
   "outputs": [],
   "source": [
    "class LazyFrames(object):\n",
    "    def __init__(self, frames):\n",
    "        \"\"\"This object ensures that common frames between the observations are only stored once.\n",
    "        It exists purely to optimize memory usage which can be huge for DQN's 1M frames replay\n",
    "        buffers.\n",
    "        This object should only be converted to numpy array before being passed to the model.\n",
    "        You'd not believe how complex the previous solution was.\"\"\"\n",
    "        self._frames = frames\n",
    "        self._out = None\n",
    "\n",
    "    def _force(self):\n",
    "        if self._out is None:\n",
    "            self._out = np.concatenate(self._frames, axis=2)\n",
    "            self._frames = None\n",
    "        return self._out\n",
    "\n",
    "    def __array__(self, dtype=None):\n",
    "        out = self._force()\n",
    "        if dtype is not None:\n",
    "            out = out.astype(dtype)\n",
    "        return out\n",
    "\n",
    "    def __len__(self):\n",
    "        return len(self._force())\n",
    "\n",
    "    def __getitem__(self, i):\n",
    "        return self._force()[i]"
   ]
  },
  {
   "cell_type": "code",
   "execution_count": 36,
   "metadata": {},
   "outputs": [],
   "source": [
    "class FrameStack(gym.Wrapper):\n",
    "    def __init__(self, env, k):\n",
    "        \"\"\"Stack k last frames.\n",
    "        Returns lazy array, which is much more memory efficient.\n",
    "        See Also\n",
    "        --------\n",
    "        baselines.common.atari_wrappers.LazyFrames\n",
    "        \"\"\"\n",
    "        gym.Wrapper.__init__(self, env)\n",
    "        self.k = k\n",
    "        self.frames = deque([], maxlen=k)\n",
    "        shp = env.observation_space.shape\n",
    "        self.observation_space = gym.spaces.Box(low=0, high=255, shape=(shp[0], shp[1], shp[2] * k), dtype=np.uint8)\n",
    "\n",
    "    def reset(self):\n",
    "        ob = self.env.reset()\n",
    "        for _ in range(self.k):\n",
    "            self.frames.append(ob)\n",
    "        return self._get_ob()\n",
    "\n",
    "    def step(self, action):\n",
    "        ob, reward, done, info = self.env.step(action)\n",
    "        self.frames.append(ob)\n",
    "        return self._get_ob(), reward, done, info\n",
    "\n",
    "    def _get_ob(self):\n",
    "        assert len(self.frames) == self.k\n",
    "        return LazyFrames(list(self.frames))"
   ]
  },
  {
   "cell_type": "code",
   "execution_count": 37,
   "metadata": {},
   "outputs": [],
   "source": [
    "class ScaledFloatFrame(gym.ObservationWrapper):\n",
    "    def __init__(self, env):\n",
    "        gym.ObservationWrapper.__init__(self, env)\n",
    "\n",
    "    def observation(self, observation):\n",
    "        # careful! This undoes the memory optimization, use\n",
    "        # with smaller replay buffers only.\n",
    "        return np.array(observation).astype(np.float32) / 255.0"
   ]
  },
  {
   "cell_type": "code",
   "execution_count": 38,
   "metadata": {},
   "outputs": [],
   "source": [
    "class PreProcessFrame(gym.ObservationWrapper):\n",
    "    def __init__(self, env, cfg):\n",
    "        \"\"\"Warp frames to 84x84 as done in the Nature paper and later work.\"\"\"\n",
    "        gym.ObservationWrapper.__init__(self, env)\n",
    "        self.width = cfg.frame_width\n",
    "        self.height = cfg.frame_height\n",
    "        self.observation_space = gym.spaces.Box(low=0, high=255,\n",
    "            shape=(self.height, self.width, 1), dtype=np.uint8)\n",
    "\n",
    "    def observation(self, frame):\n",
    "        frame = cv2.cvtColor(frame, cv2.COLOR_RGB2GRAY)\n",
    "        frame = cv2.resize(frame, (self.width, self.height), interpolation=cv2.INTER_AREA)\n",
    "        return frame[:, :, None]\n"
   ]
  },
  {
   "cell_type": "code",
   "execution_count": 39,
   "metadata": {},
   "outputs": [],
   "source": [
    "class ImageToPyTorch(gym.ObservationWrapper):\n",
    "    \"\"\"\n",
    "    Image shape to num_channels x weight x height\n",
    "    \"\"\"\n",
    "    def __init__(self, env):\n",
    "        super(ImageToPyTorch, self).__init__(env)\n",
    "        old_shape = self.observation_space.shape\n",
    "        self.observation_space = gym.spaces.Box(low=0.0, high=1.0, shape=(old_shape[-1], old_shape[0], old_shape[1]), dtype=np.uint8)\n",
    "\n",
    "    def observation(self, observation):\n",
    "        return np.swapaxes(observation, 2, 0)\n",
    "\n",
    "\n",
    "def convert_pytorch(env):\n",
    "    return ImageToPyTorch(env)"
   ]
  },
  {
   "cell_type": "code",
   "execution_count": 40,
   "metadata": {},
   "outputs": [],
   "source": [
    "def wrap_env(env, cfg,clip_rewards=True, frame_stack=True, scale=True):\n",
    "    \"\"\"Configure environment for DeepMind-style Atari.\n",
    "    \"\"\"\n",
    "    env = PreProcessFrame(env, cfg)\n",
    "    if scale:\n",
    "        env = ScaledFloatFrame(env)\n",
    "    if clip_rewards:\n",
    "        env = ClipRewardEnv(env)\n",
    "    if frame_stack:\n",
    "        env = FrameStack(env, cfg.frame_number)\n",
    "    return env"
   ]
  },
  {
   "cell_type": "code",
   "execution_count": 41,
   "metadata": {},
   "outputs": [],
   "source": [
    "class Config:\n",
    "    \"\"\"Config for environment\"\"\"\n",
    "    def __init__(self):\n",
    "        self.frame_number = 4\n",
    "        self.frame_width = 84\n",
    "        self.frame_height = 84\n",
    "        \n",
    "    def __setitem__(self, key, value):\n",
    "        return setattr(self, key, value)"
   ]
  },
  {
   "cell_type": "code",
   "execution_count": 42,
   "metadata": {
    "scrolled": true
   },
   "outputs": [],
   "source": [
    "env_id = \"PongNoFrameskip-v4\"\n",
    "config = Config()"
   ]
  },
  {
   "cell_type": "code",
   "execution_count": 43,
   "metadata": {},
   "outputs": [],
   "source": [
    "class Environment:\n",
    "    def __init__(self, env_id, config):\n",
    "        self.env = gym.make(env_id)\n",
    "        self.env = wrap_env(self.env, config)\n",
    "        self.env = convert_pytorch(self.env)\n",
    "        self.observation_space = self.env.observation_space\n",
    "        self.action_space = self.env.action_space\n",
    "        self.spec = self.env.spec\n",
    "        self.states = None\n",
    "\n",
    "    def reset(self):\n",
    "        self.states = self.env.reset()\n",
    "        return self.states\n",
    "\n",
    "    def step(self, a):\n",
    "        self.states, r, done, info = self.env.step(a)\n",
    "        return self.states, r, done, info\n",
    "\n",
    "    def render(self):\n",
    "        self.env.render()\n",
    "\n",
    "    def close(self):\n",
    "        self.env.close()"
   ]
  },
  {
   "cell_type": "code",
   "execution_count": 44,
   "metadata": {},
   "outputs": [],
   "source": [
    "class CnnDQN(nn.Module):\n",
    "    def __init__(self, input_shape, num_actions):\n",
    "        super(CnnDQN, self).__init__()\n",
    "        \n",
    "        self.input_shape = input_shape\n",
    "        self.num_actions = num_actions\n",
    "        \n",
    "        self.features = nn.Sequential(\n",
    "            nn.Conv2d(input_shape[0], 32, kernel_size=8, stride=4),\n",
    "            nn.ReLU(),\n",
    "            nn.Conv2d(32, 64, kernel_size=4, stride=2),\n",
    "            nn.ReLU(),\n",
    "            nn.Conv2d(64, 64, kernel_size=3, stride=1),\n",
    "            nn.ReLU()\n",
    "        )\n",
    "        \n",
    "        self.fc = nn.Sequential(\n",
    "            nn.Linear(self.feature_size(), 512),\n",
    "            nn.ReLU(),\n",
    "            nn.Linear(512, self.num_actions)\n",
    "        )\n",
    "        \n",
    "    def forward(self, x):\n",
    "        x = self.features(x)\n",
    "        x = x.view(x.size(0), -1)\n",
    "        x = self.fc(x)\n",
    "        return x\n",
    "    \n",
    "    def feature_size(self):\n",
    "        return self.features(autograd.Variable(torch.zeros(1, *self.input_shape))).view(1, -1).size(1)\n",
    "    \n",
    "    def act(self, state, epsilon):\n",
    "        if random.random() > epsilon:\n",
    "            with torch.no_grad():\n",
    "                state   = Variable(torch.FloatTensor(np.float32(state)).unsqueeze(0))\n",
    "            q_value = self.forward(state)\n",
    "            action  = q_value.max(1)[1].data\n",
    "        else:\n",
    "            action = random.randrange(env.action_space.n)\n",
    "        return action"
   ]
  },
  {
   "cell_type": "code",
   "execution_count": 45,
   "metadata": {
    "scrolled": true
   },
   "outputs": [],
   "source": [
    "env = Environment(env_id=env_id, config=config)\n",
    "current_model = CnnDQN(env.observation_space.shape, env.action_space.n)\n",
    "target_model  = CnnDQN(env.observation_space.shape, env.action_space.n)\n",
    "\n",
    "if USE_CUDA:\n",
    "    current_model = current_model.cuda()\n",
    "    target_model  = target_model.cuda()\n",
    "    \n",
    "optimizer = optim.Adam(current_model.parameters(), lr=0.0001)\n",
    "\n",
    "replay_initial = 1000\n",
    "replay_buffer = ReplayBuffer(10000)\n",
    "\n",
    "update_target(current_model, target_model)"
   ]
  },
  {
   "cell_type": "code",
   "execution_count": 46,
   "metadata": {},
   "outputs": [],
   "source": [
    "epsilon_start = 1.0\n",
    "epsilon_final = 0.01\n",
    "epsilon_decay = 30000\n",
    "\n",
    "epsilon_by_frame = lambda frame_idx: epsilon_final + (epsilon_start - epsilon_final) * math.exp(-1. * frame_idx / epsilon_decay)"
   ]
  },
  {
   "cell_type": "code",
   "execution_count": 48,
   "metadata": {},
   "outputs": [
    {
     "data": {
      "image/png": "[encoded data removed]",
      "text/plain": [
       "<Figure size 1440x360 with 2 Axes>"
      ]
     },
     "metadata": {
      "needs_background": "light"
     },
     "output_type": "display_data"
    }
   ],
   "source": [
    "num_frames = 100000\n",
    "batch_size = 32\n",
    "gamma      = 0.99\n",
    "\n",
    "losses = []\n",
    "all_rewards = []\n",
    "episode_reward = 0\n",
    "\n",
    "state = env.reset()\n",
    "for frame_idx in range(1, num_frames + 1):\n",
    "    epsilon = epsilon_by_frame(frame_idx)\n",
    "    action = current_model.act(state, epsilon)\n",
    "    \n",
    "    next_state, reward, done, _ = env.step(action)\n",
    "    replay_buffer.push(state, action, reward, next_state, done)\n",
    "    \n",
    "    state = next_state\n",
    "    episode_reward += reward\n",
    "    \n",
    "    if done:\n",
    "        state = env.reset()\n",
    "        all_rewards.append(episode_reward)\n",
    "        episode_reward = 0\n",
    "        \n",
    "    if len(replay_buffer) > replay_initial:\n",
    "        # TODO:- Based on Td_loss functions you have worked with write or\n",
    "        # choose a function to reuse here and justify your choice\n",
    "        S, A, R, NS, D = replay_buffer.sample(batch_size)\n",
    "\n",
    "        S      = Variable(torch.FloatTensor(np.float32(S)))\n",
    "        with torch.no_grad():\n",
    "            NS = Variable(torch.FloatTensor(np.float32(NS)))\n",
    "        A     = Variable(torch.LongTensor(A))\n",
    "        R     = Variable(torch.FloatTensor(R))\n",
    "        D       = Variable(torch.FloatTensor(D))\n",
    "\n",
    "        # TODO: predict q_values. \n",
    "        # Hint:- remeber it's a batch prediction so there will be extra dimention.\n",
    "        q_values = current_model(S)\n",
    "\n",
    "        # TODO: predict next state's q_values.\n",
    "        next_q_values = current_model(NS)\n",
    "\n",
    "        # TODO:- predict next state values from target model\n",
    "        next_q_target_values = target_model(NS)\n",
    "\n",
    "        # Gather only values based on action\n",
    "        q_value = q_values.gather(1, A.unsqueeze(1)).squeeze(1)\n",
    "\n",
    "        # TODO:- calculate next state q_values that are not over estimated\n",
    "        # Hint:- next_q_value = next state q-values from target[maximum of next state q-values from current model]\n",
    "        next_q_value = next_q_target_values.gather(1, next_q_values.argmax(1).unsqueeze(1)).squeeze(1)\n",
    "\n",
    "        # TODO:- calculate expected Q-values of future\n",
    "        expected_q_value = R + gamma * next_q_value * (1 - D)\n",
    "\n",
    "\n",
    "        # TODO:- apply MSE\n",
    "        loss = F.mse_loss(expected_q_value, q_value)\n",
    "\n",
    "        optimizer.zero_grad()\n",
    "        loss.backward()\n",
    "        optimizer.step()\n",
    "\n",
    "        losses.append(loss.data)\n",
    "        \n",
    "    if frame_idx % 10000 == 0:\n",
    "        plot(frame_idx, all_rewards, losses)\n",
    "        \n",
    "    if frame_idx % 1000 == 0:\n",
    "        update_target(current_model, target_model)"
   ]
  },
  {
   "cell_type": "markdown",
   "metadata": {},
   "source": [
    "EXPLANATION:\n",
    "I've chosen here to use the Dubbel DQN approach, this choice is based on the comparison of all the agents, where dubbel dqn was one of the best performing techniques.\n",
    "In the resulting plots we can't speak of a great succes, the cumulative reward doesn't change that much, as well as the loss-plot. Atari games are a very complex environment and need much more training (number of frames) to convergence to a better cumulative score."
   ]
  },
  {
   "cell_type": "code",
   "execution_count": null,
   "metadata": {},
   "outputs": [],
   "source": []
  }
 ],
 "metadata": {
  "kernelspec": {
   "display_name": "Python 3",
   "language": "python",
   "name": "python3"
  },
  "language_info": {
   "codemirror_mode": {
    "name": "ipython",
    "version": 3
   },
   "file_extension": ".py",
   "mimetype": "text/x-python",
   "name": "python",
   "nbconvert_exporter": "python",
   "pygments_lexer": "ipython3",
   "version": "3.6.9"
  }
 },
 "nbformat": 4,
 "nbformat_minor": 4
}